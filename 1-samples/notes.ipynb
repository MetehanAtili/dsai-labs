{
 "cells": [
  {
   "attachments": {},
   "cell_type": "markdown",
   "metadata": {},
   "source": [
    "NOTES"
   ]
  },
  {
   "attachments": {},
   "cell_type": "markdown",
   "metadata": {},
   "source": []
  },
  {
   "cell_type": "code",
   "execution_count": null,
   "metadata": {},
   "outputs": [],
   "source": [
    "# Importing the necessary packages\n",
    "import numpy as np                                  # \"Scientific computing\"\n",
    "import scipy.stats as stats                         # Statistical tests\n",
    "\n",
    "import pandas as pd                                 # Data Frame\n",
    "from pandas.api.types import CategoricalDtype\n",
    "\n",
    "import matplotlib.pyplot as plt                     # Basic visualisation\n",
    "from statsmodels.graphics.mosaicplot import mosaic  # Mosaic diagram\n",
    "import seaborn as sns                               # Advanced data visualisation"
   ]
  },
  {
   "cell_type": "code",
   "execution_count": 25,
   "metadata": {},
   "outputs": [
    {
     "name": "stdout",
     "output_type": "stream",
     "text": [
      "mean of summation2: 5.0\n",
      "median of summation2: 4.0\n",
      "mode of summation2: ModeResult(mode=array([3]), count=array([3]))\n",
      "variance of summation2: 7.833333333333333\n",
      "standard deviation of summation2: 2.6890089681459286\n"
     ]
    },
    {
     "name": "stderr",
     "output_type": "stream",
     "text": [
      "C:\\Users\\meteh\\AppData\\Local\\Temp\\ipykernel_19008\\1256371651.py:5: FutureWarning: Unlike other reduction functions (e.g. `skew`, `kurtosis`), the default behavior of `mode` typically preserves the axis it acts along. In SciPy 1.11.0, this behavior will change: the default value of `keepdims` will become False, the `axis` over which the statistic is taken will be eliminated, and the value None will no longer be accepted. Set `keepdims` to True or False to avoid this warning.\n",
      "  print(f'mode of summation2: {stats.mode(summation2)}')\n"
     ]
    }
   ],
   "source": [
    "summation2 = np.array([1,2,3,3,3,4,4,5,6,7,8,9,10])\n",
    "\n",
    "print(f'mean of summation2: {np.mean(summation2)}')\n",
    "print(f'median of summation2: {np.median(summation2)}')\n",
    "print(f'mode of summation2: {stats.mode(summation2)}')\n",
    "print(f'variance of summation2: {np.var(summation2)}')\n",
    "print(f'standard deviation of summation2: {np.std(summation2)}')\n"
   ]
  }
 ],
 "metadata": {
  "language_info": {
   "name": "python"
  },
  "orig_nbformat": 4
 },
 "nbformat": 4,
 "nbformat_minor": 2
}
